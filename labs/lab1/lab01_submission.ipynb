{
 "cells": [
  {
   "cell_type": "markdown",
   "id": "6bd4cb7c",
   "metadata": {},
   "source": [
    "Author: Lucy Roberts\n",
    "Assignment: Lab01"
   ]
  },
  {
   "cell_type": "markdown",
   "id": "af2b26b4",
   "metadata": {},
   "source": [
    "### TASK 01"
   ]
  },
  {
   "cell_type": "code",
   "execution_count": 3,
   "id": "e0067819",
   "metadata": {},
   "outputs": [
    {
     "name": "stdout",
     "output_type": "stream",
     "text": [
      "[3 2]\n"
     ]
    }
   ],
   "source": [
    "import numpy as np\n",
    "\n",
    "a = 3\n",
    "b = 2\n",
    "c = np.array([a, b])\n",
    "\n",
    "print(c)"
   ]
  },
  {
   "cell_type": "markdown",
   "id": "b2f53aed",
   "metadata": {},
   "source": [
    "### Task 02"
   ]
  },
  {
   "cell_type": "markdown",
   "id": "7554777c",
   "metadata": {},
   "source": [
    "![Siena, Italy](Siena.jpg)\n",
    "\n",
    "This is a picture of *Siena, Italy*. I would **really** like to go to Siena some day, perhaps as a study abroad opportunity."
   ]
  }
 ],
 "metadata": {
  "kernelspec": {
   "display_name": "Python 3 (ipykernel)",
   "language": "python",
   "name": "python3"
  },
  "language_info": {
   "codemirror_mode": {
    "name": "ipython",
    "version": 3
   },
   "file_extension": ".py",
   "mimetype": "text/x-python",
   "name": "python",
   "nbconvert_exporter": "python",
   "pygments_lexer": "ipython3",
   "version": "3.8.12"
  }
 },
 "nbformat": 4,
 "nbformat_minor": 5
}
