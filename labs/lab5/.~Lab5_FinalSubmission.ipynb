{
 "cells": [
  {
   "cell_type": "markdown",
   "id": "9799e908",
   "metadata": {},
   "source": [
    "# Lab 5 Submission"
   ]
  },
  {
   "cell_type": "markdown",
   "id": "e2214aee",
   "metadata": {},
   "source": [
    "Author: Lucy Roberts\n",
    "\n",
    "Date: 2/7/2022\n",
    "\n",
    "Class: Geospatial Data Science\n",
    "\n",
    "Prof: Johnny Ryan\n",
    "\n",
    "GE: Insang Song"
   ]
  },
  {
   "cell_type": "code",
   "execution_count": 1,
   "id": "ffd330ed",
   "metadata": {},
   "outputs": [],
   "source": [
    "#MUST UPDATE ENVIRONMENT TO INCLUDE LAB 2 AND 3\n",
    "# !conda env update -n lab5 -f environment_lab2.yml environment_lab3.yml"
   ]
  },
  {
   "cell_type": "code",
   "execution_count": 2,
   "id": "76a78ead",
   "metadata": {},
   "outputs": [],
   "source": [
    "# Import libraries\n",
    "import pandas as pd\n",
    "import numpy as np\n",
    "import geopandas as gpd\n",
    "import matplotlib.pyplot as plt\n",
    "from sklearn.preprocessing import StandardScaler\n",
    "from sklearn.model_selection import train_test_split\n",
    "from sklearn.ensemble import RandomForestRegressor\n",
    "from sklearn.neural_network import MLPRegressor\n",
    "from sklearn import metrics\n",
    "from sklearn.model_selection import RandomizedSearchCV\n",
    "\n",
    "import osmnx as ox \n",
    "import networkx as nx\n",
    "import folium\n",
    "\n",
    "from cenpy import products\n",
    "\n",
    "\n",
    "# Import data\n",
    "df = pd.read_csv(\"C:\\\\Users\\\\lucin\\\\OneDrive\\\\Desktop\\\\GeospatialDataScience\\\\geospatial-data-science\\\\labs\\\\lab5\\\\lab5data\\\\seattle_house_prices.csv\")"
   ]
  },
  {
   "cell_type": "code",
   "execution_count": 3,
   "id": "133438a8",
   "metadata": {},
   "outputs": [],
   "source": [
    "from shapely.geometry.polygon import Polygon\n",
    "from shapely.geometry.multipolygon import MultiPolygon\n",
    "from shapely.geometry import LineString, MultiLineString"
   ]
  },
  {
   "cell_type": "code",
   "execution_count": 28,
   "id": "b9225e8a",
   "metadata": {},
   "outputs": [],
   "source": [
    "# Convert DataFrame to GeoDataFrame\n",
    "gdf = gpd.GeoDataFrame(df, geometry=gpd.points_from_xy(df['long'], df['lat']))\n",
    "gdf = gdf.set_crs(4326, allow_override=True)\n",
    "\n",
    "# Reproject everything to UTM 10N (EPSG:32610)\n",
    "gdf_utm = gdf.to_crs('EPSG:32610')"
   ]
  },
  {
   "cell_type": "markdown",
   "id": "4d93a31d",
   "metadata": {},
   "source": [
    "### Question 1"
   ]
  },
  {
   "cell_type": "markdown",
   "id": "1394d2d4",
   "metadata": {},
   "source": [
    "1. There are _19451_ houses in the dataset."
   ]
  },
  {
   "cell_type": "markdown",
   "id": "d7a4d631",
   "metadata": {},
   "source": [
    "2. There are 7 features for predicting house price."
   ]
  },
  {
   "cell_type": "markdown",
   "id": "6aa81da3",
   "metadata": {},
   "source": [
    "3. There are no null features of the dataset."
   ]
  },
  {
   "cell_type": "code",
   "execution_count": 5,
   "id": "f8c83f31",
   "metadata": {},
   "outputs": [
    {
     "name": "stdout",
     "output_type": "stream",
     "text": [
      "<class 'geopandas.geodataframe.GeoDataFrame'>\n",
      "RangeIndex: 19451 entries, 0 to 19450\n",
      "Data columns (total 9 columns):\n",
      " #   Column       Non-Null Count  Dtype   \n",
      "---  ------       --------------  -----   \n",
      " 0   price        19451 non-null  int64   \n",
      " 1   bedrooms     19451 non-null  int64   \n",
      " 2   bathrooms    19451 non-null  float64 \n",
      " 3   sqft_living  19451 non-null  int64   \n",
      " 4   sqft_lot     19451 non-null  int64   \n",
      " 5   yr_built     19451 non-null  int64   \n",
      " 6   lat          19451 non-null  float64 \n",
      " 7   long         19451 non-null  float64 \n",
      " 8   geometry     19451 non-null  geometry\n",
      "dtypes: float64(3), geometry(1), int64(5)\n",
      "memory usage: 1.3 MB\n"
     ]
    }
   ],
   "source": [
    "null_gdf = gdf.info()\n",
    "null_gdf"
   ]
  },
  {
   "cell_type": "markdown",
   "id": "24d8e09b",
   "metadata": {},
   "source": [
    "4. sqrt_living (correl = 0.702), bathrooms (correl = 0.524), and bedrooms (correl = 0.315) are the most correlated with housing price."
   ]
  },
  {
   "cell_type": "markdown",
   "id": "4cc45cb9",
   "metadata": {},
   "source": [
    "5. sqft_lot (correl = 0.090), yr_built (correl = 0.052), and long (correl = 0.020) are least correlated with housing price."
   ]
  },
  {
   "cell_type": "code",
   "execution_count": 26,
   "id": "cc12f417",
   "metadata": {},
   "outputs": [
    {
     "data": {
      "text/plain": [
       "price             1.000000\n",
       "sqft_living       0.702296\n",
       "BachPlus_ByPop    0.531980\n",
       "bathrooms         0.524395\n",
       "B25119_001E       0.509853\n",
       "B15003_024E       0.448381\n",
       "B15003_025E       0.406826\n",
       "B25064_001E       0.393263\n",
       "B15003_023E       0.365436\n",
       "bedrooms          0.315804\n",
       "lat               0.308082\n",
       "B15003_022E       0.272551\n",
       "White_byPop       0.210071\n",
       "B03002_003E       0.139224\n",
       "B25091_001E       0.112195\n",
       "sqft_lot          0.090125\n",
       "index_right       0.053405\n",
       "yr_built          0.052453\n",
       "long              0.020092\n",
       "B01003_001E       0.016883\n",
       "B25092_001E      -0.258037\n",
       "Name: price, dtype: float64"
      ]
     },
     "execution_count": 26,
     "metadata": {},
     "output_type": "execute_result"
    }
   ],
   "source": [
    "# Compute correlation matrix\n",
    "corr_matrix = gdf_utm.corr()\n",
    "\n",
    "# Display just house value correlations\n",
    "corr_matrix[\"price\"].sort_values(ascending= False)"
   ]
  },
  {
   "cell_type": "markdown",
   "id": "14a2d567",
   "metadata": {},
   "source": [
    "## Question 2"
   ]
  },
  {
   "cell_type": "markdown",
   "id": "1d9bf6b2",
   "metadata": {},
   "source": [
    "### Add extra features"
   ]
  },
  {
   "cell_type": "markdown",
   "id": "dd13d2d2",
   "metadata": {},
   "source": [
    "####"
   ]
  },
  {
   "cell_type": "code",
   "execution_count": 7,
   "id": "c963dd6f",
   "metadata": {},
   "outputs": [],
   "source": [
    "# Define product\n",
    "acs = products.ACS(2019)"
   ]
  },
  {
   "cell_type": "markdown",
   "id": "e46f441f",
   "metadata": {},
   "source": [
    "###### Variables\n",
    "'B01003' = total population\n",
    "B25091_001 = number of homeowners in residence\n",
    "\n",
    "B15003_025E Dr\n",
    "B15003_024E Professional\n",
    "B15003_023E Master's\n",
    "B15003_022E Bachelor's\n",
    "\n",
    "B25119_001E Median hh income\n",
    "\n",
    "B25092_001E monthly owner costs\n",
    "\n",
    "###### Calculated \n",
    "BachPlus_ByPop- sum of all advanced degrees divided by total pop\n",
    "\n",
    "White_ByPop- number of white people by total pop"
   ]
  },
  {
   "cell_type": "code",
   "execution_count": 27,
   "id": "7c21e690",
   "metadata": {},
   "outputs": [
    {
     "name": "stderr",
     "output_type": "stream",
     "text": [
      "C:\\Users\\lucin\\anaconda3\\envs\\lab5\\lib\\site-packages\\pyproj\\crs\\crs.py:131: FutureWarning: '+init=<authority>:<code>' syntax is deprecated. '<authority>:<code>' is the preferred initialization method. When making the change, be mindful of axis order changes: https://pyproj4.github.io/pyproj/stable/gotchas.html#axis-order-changes-in-proj-6\n",
      "  in_crs_string = _prepare_from_proj_string(in_crs_string)\n",
      "C:\\Users\\lucin\\anaconda3\\envs\\lab5\\lib\\site-packages\\pandas\\core\\dtypes\\cast.py:1981: ShapelyDeprecationWarning: __len__ for multi-part geometries is deprecated and will be removed in Shapely 2.0. Check the length of the `geoms` property instead to get the  number of parts of a multi-part geometry.\n",
      "  result[:] = values\n",
      "C:\\Users\\lucin\\anaconda3\\envs\\lab5\\lib\\site-packages\\pyproj\\crs\\crs.py:131: FutureWarning: '+init=<authority>:<code>' syntax is deprecated. '<authority>:<code>' is the preferred initialization method. When making the change, be mindful of axis order changes: https://pyproj4.github.io/pyproj/stable/gotchas.html#axis-order-changes-in-proj-6\n",
      "  in_crs_string = _prepare_from_proj_string(in_crs_string)\n",
      "C:\\Users\\lucin\\anaconda3\\envs\\lab5\\lib\\site-packages\\cenpy\\products.py:762: FutureWarning: The `op` parameter is deprecated and will be removed in a future release. Please use the `predicate` parameter instead.\n",
      "  return self._from_name(county, variables, level, \"Counties\", **kwargs)\n"
     ]
    }
   ],
   "source": [
    "#Download Data\n",
    "king_cost = products.ACS(2019).from_county('King County, WA', level='tract',\n",
    "                                        variables=['B25091_001E', 'B15003_025E', 'B15003_024E', 'B15003_023E', 'B15003_022E', 'B01003_001E', 'B25119_001E', 'B03002_003E', 'B25064_001E'])\n",
    "\n",
    "# Calculate some stats\n",
    "king_cost['BachPlus_ByPop'] = (king_cost['B15003_025E'] + king_cost['B15003_024E'] + king_cost['B15003_023E'] + king_cost['B15003_022E'])/king_cost['B01003_001E']\n",
    "king_cost['White_byPop'] = king_cost['B03002_003E'] / king_cost['B01003_001E']"
   ]
  },
  {
   "cell_type": "code",
   "execution_count": 29,
   "id": "5cbc7dff",
   "metadata": {},
   "outputs": [],
   "source": [
    "#Make df\n",
    "king_gdf = gpd.GeoDataFrame(king_cost, geometry='geometry')\n",
    "king_gdf = king_gdf.to_crs('EPSG:32610')"
   ]
  },
  {
   "cell_type": "code",
   "execution_count": 30,
   "id": "1635407e",
   "metadata": {},
   "outputs": [],
   "source": [
    "joined = gdf_utm.sjoin(king_gdf, how=\"inner\", predicate='intersects')"
   ]
  },
  {
   "cell_type": "code",
   "execution_count": 31,
   "id": "e279513c",
   "metadata": {},
   "outputs": [],
   "source": [
    "gdf_utm = joined"
   ]
  },
  {
   "cell_type": "markdown",
   "id": "7f38ba37",
   "metadata": {},
   "source": [
    "##### Proximity to university"
   ]
  },
  {
   "cell_type": "code",
   "execution_count": 12,
   "id": "4567f7ef",
   "metadata": {
    "scrolled": true
   },
   "outputs": [
    {
     "name": "stderr",
     "output_type": "stream",
     "text": [
      "C:\\Users\\lucin\\anaconda3\\envs\\lab5\\lib\\site-packages\\osmnx\\geocoder.py:110: FutureWarning: The frame.append method is deprecated and will be removed from pandas in a future version. Use pandas.concat instead.\n",
      "  gdf = gdf.append(_geocode_query_to_gdf(q, wr, by_osmid))\n"
     ]
    }
   ],
   "source": [
    "# Specify type of data\n",
    "tags = {'amenity': 'university'}\n",
    "\n",
    "# Download building geometries from OSM\n",
    "colleges = ox.geometries_from_place('Seattle, WA, USA', tags)\n",
    "\n",
    "\n",
    "colleges = colleges.to_crs('EPSG:32610')\n",
    "\n",
    "# Get bathroom and EMU centroids\n",
    "colleges['centroid'] = colleges['geometry'].apply(\n",
    "  lambda x: x.centroid if type(x) == Polygon else (\n",
    "  x.centroid if type(x) == MultiPolygon else x))\n",
    "\n",
    "\n",
    "# Convert back to WGS84\n",
    "colleges['centroid']= colleges['centroid'].to_crs('EPSG:4326')"
   ]
  },
  {
   "cell_type": "code",
   "execution_count": 13,
   "id": "654e010b",
   "metadata": {},
   "outputs": [],
   "source": [
    "#Calculate distance\n",
    "colleges_utm = colleges['centroid'].to_crs('EPSG:32610')\n",
    "\n",
    "distance_to_uni = []\n",
    "VeryClose = []\n",
    "for i in range(gdf_utm.shape[0]):\n",
    "    dist = colleges_utm.distance(gdf_utm['geometry'].iloc[i]).min()\n",
    "    distance_to_uni.append(dist)\n",
    "    if dist < 5000:\n",
    "        VeryClose.append(1)\n",
    "    else:\n",
    "        VeryClose.append(0)\n",
    "        \n",
    "#walk to uni is actually just close to uni, within 5 km        \n",
    "gdf_utm['walk_to_uni'] = VeryClose"
   ]
  },
  {
   "cell_type": "markdown",
   "id": "db899a2c",
   "metadata": {},
   "source": [
    "##### Distance to Coast"
   ]
  },
  {
   "cell_type": "code",
   "execution_count": 14,
   "id": "e50114f9",
   "metadata": {},
   "outputs": [],
   "source": [
    "# Read dataset\n",
    "coast = gpd.read_file(\"C:\\\\Users\\\\lucin\\\\OneDrive\\\\Desktop\\\\GeospatialDataScience\\\\geospatial-data-science\\\\labs\\\\lab5\\\\lab5data\\\\washington_coastline.shp\")\n",
    "\n",
    "#Convert to UTM 10N\n",
    "coast_utm = coast.to_crs('EPSG:32610')\n",
    "\n",
    "# Compute distance to coast\n",
    "distance_to_coast = []\n",
    "OnWater = []\n",
    "for i in range(gdf_utm.shape[0]):\n",
    "    dist = coast_utm.distance(gdf_utm['geometry'].iloc[i]).min()\n",
    "    distance_to_coast.append(dist)\n",
    "    if dist < 500:\n",
    "        OnWater.append(1)\n",
    "    else:\n",
    "        OnWater.append(0)"
   ]
  },
  {
   "cell_type": "code",
   "execution_count": 15,
   "id": "8e663b69",
   "metadata": {},
   "outputs": [],
   "source": [
    "gdf_utm['OnWater'] = OnWater #Should select only the data that are very close to the shore."
   ]
  },
  {
   "cell_type": "markdown",
   "id": "66108dc2",
   "metadata": {},
   "source": [
    "#### Create model"
   ]
  },
  {
   "cell_type": "code",
   "execution_count": 17,
   "id": "42915784",
   "metadata": {},
   "outputs": [],
   "source": [
    "# Define feature list\n",
    "feature_list =  ['sqft_living', 'bathrooms', 'bedrooms', 'sqft_lot', 'lat', 'BachPlus_ByPop', 'B25119_001E', 'White_byPop', 'walk_to_uni', 'OnWater']\n",
    "\n",
    "# Define features and labels \n",
    "X = gdf_utm[feature_list]\n",
    "y = gdf_utm['price']\n",
    "\n",
    "# Standarize data\n",
    "scaler = StandardScaler()  \n",
    "X_scaled = scaler.fit_transform(X)"
   ]
  },
  {
   "cell_type": "code",
   "execution_count": 18,
   "id": "73682501",
   "metadata": {},
   "outputs": [],
   "source": [
    "# Split data \n",
    "X_train, X_test, y_train, y_test = train_test_split(X_scaled, y, test_size=0.2, random_state=42)"
   ]
  },
  {
   "cell_type": "code",
   "execution_count": 19,
   "id": "a83e69d2",
   "metadata": {},
   "outputs": [
    {
     "data": {
      "text/plain": [
       "RandomForestRegressor(max_features='sqrt', n_estimators=830, n_jobs=-1,\n",
       "                      oob_score=True)"
      ]
     },
     "execution_count": 19,
     "metadata": {},
     "output_type": "execute_result"
    }
   ],
   "source": [
    "# Define model\n",
    "forest_reg = RandomForestRegressor(n_estimators=830, min_samples_leaf=1, max_features='sqrt', bootstrap = True, n_jobs = -1, oob_score=True)\n",
    "\n",
    "# Fit model\n",
    "forest_reg.fit(X_train, y_train)"
   ]
  },
  {
   "cell_type": "code",
   "execution_count": 20,
   "id": "dceb9cdb",
   "metadata": {},
   "outputs": [
    {
     "data": {
      "text/plain": [
       "146648.6060922433"
      ]
     },
     "execution_count": 20,
     "metadata": {},
     "output_type": "execute_result"
    }
   ],
   "source": [
    "# Predict test labels predictions\n",
    "predictions = forest_reg.predict(X_test)\n",
    "\n",
    "# Compute mean-squared-error\n",
    "final_mse = metrics.mean_squared_error(y_test , predictions)\n",
    "final_rmse = np.sqrt(final_mse)\n",
    "final_rmse"
   ]
  },
  {
   "cell_type": "code",
   "execution_count": 37,
   "id": "b0763146",
   "metadata": {},
   "outputs": [
    {
     "name": "stdout",
     "output_type": "stream",
     "text": [
      "Fitting 3 folds for each of 100 candidates, totalling 300 fits\n"
     ]
    },
    {
     "data": {
      "text/plain": [
       "{'n_estimators': 830,\n",
       " 'min_samples_leaf': 1,\n",
       " 'max_features': 'sqrt',\n",
       " 'bootstrap': False}"
      ]
     },
     "execution_count": 37,
     "metadata": {},
     "output_type": "execute_result"
    }
   ],
   "source": [
    "#hyper parameter testing from https://towardsdatascience.com/predicting-housing-prices-using-a-scikit-learns-random-forest-model-e736b59d56c5\n",
    "# \"Predicting Housing Prices Using Scikit-Learn's Random Forest Model\" by Santosh Yadaw\n",
    "\"\"\"\n",
    "n_estimators = [int(x) for x in np.arange(start = 10, stop = 2000, step = 10)]\n",
    "max_features = [0.5,'auto', 'sqrt','log2']\n",
    "min_samples_leaf = [1, 2, 4]\n",
    "bootstrap = [True, False]\n",
    "random_grid = {'n_estimators': n_estimators,\n",
    "               'max_features': max_features,\n",
    "               'min_samples_leaf': min_samples_leaf,\n",
    "               'bootstrap': bootstrap}\n",
    "# First create the base model to tune\n",
    "m = RandomForestRegressor()\n",
    "# Fit the random search model\n",
    "m_random = RandomizedSearchCV(estimator = m, param_distributions = random_grid, n_iter = 100, cv = 3, verbose=2, random_state=42, n_jobs = -1)\n",
    "m_random.fit(X_train, y_train)\n",
    "m_random.best_params_\n",
    "\"\"\""
   ]
  },
  {
   "cell_type": "code",
   "execution_count": null,
   "id": "ec6a5969",
   "metadata": {},
   "outputs": [],
   "source": []
  },
  {
   "cell_type": "code",
   "execution_count": null,
   "id": "fd931c8f",
   "metadata": {},
   "outputs": [],
   "source": []
  },
  {
   "cell_type": "code",
   "execution_count": null,
   "id": "4d3ebbfb",
   "metadata": {},
   "outputs": [],
   "source": []
  }
 ],
 "metadata": {
  "kernelspec": {
   "display_name": "Python 3 (ipykernel)",
   "language": "python",
   "name": "python3"
  },
  "language_info": {
   "codemirror_mode": {
    "name": "ipython",
    "version": 3
   },
   "file_extension": ".py",
   "mimetype": "text/x-python",
   "name": "python",
   "nbconvert_exporter": "python",
   "pygments_lexer": "ipython3",
   "version": "3.8.12"
  }
 },
 "nbformat": 4,
 "nbformat_minor": 5
}
