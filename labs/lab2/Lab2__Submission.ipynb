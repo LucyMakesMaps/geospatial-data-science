{
 "cells": [
  {
   "cell_type": "markdown",
   "id": "db230762",
   "metadata": {},
   "source": [
    "# Lab 02- Vector and census data in Python"
   ]
  },
  {
   "cell_type": "code",
   "execution_count": 98,
   "id": "5731c03a",
   "metadata": {},
   "outputs": [],
   "source": [
    "# Import modules\n",
    "import pandas as pd\n",
    "import geopandas as gpd\n",
    "import matplotlib.pyplot as plt\n",
    "from cenpy import products"
   ]
  },
  {
   "cell_type": "markdown",
   "id": "1b62b27d",
   "metadata": {},
   "source": [
    "## PART 1"
   ]
  },
  {
   "cell_type": "code",
   "execution_count": 48,
   "id": "bf15d16e",
   "metadata": {},
   "outputs": [],
   "source": [
    "# Define data filepath\n",
    "pathname = 'C:\\\\Users\\\\lucin\\\\geospatial-data-science\\\\labs\\lab2\\\\'\n",
    "\n",
    "# Read data\n",
    "df = gpd.read_file(pathname + 'or_1992-2018.shp') # 'df' stands for DataFrame"
   ]
  },
  {
   "cell_type": "code",
   "execution_count": 49,
   "id": "0bed2ad2",
   "metadata": {},
   "outputs": [
    {
     "data": {
      "text/plain": [
       "0        2012/07/22 00:00:00.000\n",
       "1        2009/07/17 00:00:00.000\n",
       "2        2015/09/19 00:00:00.000\n",
       "3        2017/07/27 00:00:00.000\n",
       "4        2010/07/20 00:00:00.000\n",
       "                  ...           \n",
       "67037    2018/06/25 00:00:00.000\n",
       "67038    2018/07/10 00:00:00.000\n",
       "67039    2018/06/26 00:00:00.000\n",
       "67040    2018/08/18 00:00:00.000\n",
       "67041    2018/07/16 00:00:00.000\n",
       "Name: DISCOVERY_, Length: 67042, dtype: object"
      ]
     },
     "execution_count": 49,
     "metadata": {},
     "output_type": "execute_result"
    }
   ],
   "source": [
    "# Find date of discovery\n",
    "df['DISCOVERY_']"
   ]
  },
  {
   "cell_type": "code",
   "execution_count": 50,
   "id": "5d163a61",
   "metadata": {},
   "outputs": [
    {
     "data": {
      "text/plain": [
       "0       2012-07-22\n",
       "1       2009-07-17\n",
       "2       2015-09-19\n",
       "3       2017-07-27\n",
       "4       2010-07-20\n",
       "           ...    \n",
       "67037   2018-06-25\n",
       "67038   2018-07-10\n",
       "67039   2018-06-26\n",
       "67040   2018-08-18\n",
       "67041   2018-07-16\n",
       "Name: DISCOVERY_, Length: 67042, dtype: datetime64[ns]"
      ]
     },
     "execution_count": 50,
     "metadata": {},
     "output_type": "execute_result"
    }
   ],
   "source": [
    "datetime = pd.to_datetime(df['DISCOVERY_'], format='%Y/%m/%d %H:%M:%S.%f')\n",
    "datetime"
   ]
  },
  {
   "cell_type": "code",
   "execution_count": 51,
   "id": "e951c628",
   "metadata": {},
   "outputs": [],
   "source": [
    "df['datetime'] = datetime"
   ]
  },
  {
   "cell_type": "markdown",
   "id": "1d591d62",
   "metadata": {},
   "source": [
    "## Question 1\n",
    "### 1a) \n",
    "**Wasco County** had the most human caused wildfires >50 acres, with **71** of such fires"
   ]
  },
  {
   "cell_type": "code",
   "execution_count": 52,
   "id": "122800d0",
   "metadata": {},
   "outputs": [
    {
     "data": {
      "text/plain": [
       "FIPS_NAME\n",
       "Adams County          1\n",
       "Baker County         22\n",
       "Benton County         5\n",
       "Clackamas County      4\n",
       "Clatsop County        3\n",
       "Columbia County       1\n",
       "Coos County           8\n",
       "Crook County         10\n",
       "Curry County          9\n",
       "Deschutes County     22\n",
       "Douglas County       40\n",
       "Gilliam County       19\n",
       "Grant County         28\n",
       "Harney County        31\n",
       "Hood River County     5\n",
       "Jackson County       25\n",
       "Jefferson County     30\n",
       "Josephine County     20\n",
       "Klamath County       34\n",
       "Klickitat County      2\n",
       "Lake County          18\n",
       "Lane County          18\n",
       "Lincoln County        6\n",
       "Linn County           5\n",
       "Malheur County       49\n",
       "Marion County         7\n",
       "Morrow County        11\n",
       "Multnomah County      3\n",
       "Polk County           4\n",
       "Sherman County       20\n",
       "Tillamook County      1\n",
       "Umatilla County      40\n",
       "Union County         14\n",
       "Wallowa County       10\n",
       "Wasco County         71\n",
       "Washington County     2\n",
       "Wheeler County       28\n",
       "Yamhill County        1\n",
       "Name: OBJECTID, dtype: int64"
      ]
     },
     "execution_count": 52,
     "metadata": {},
     "output_type": "execute_result"
    }
   ],
   "source": [
    "df_large = df[(df['FIRE_SIZE'] > 50)]\n",
    "df_human_large = df_large[(df_large['NWCG_CAUSE'] == \"Human\")]\n",
    "\n",
    "df_most_county = df_human_large.iloc[:,0].groupby(df_human_large['FIPS_NAME']).count()\n",
    "\n",
    "df_most_county"
   ]
  },
  {
   "cell_type": "markdown",
   "id": "0bea3e7d",
   "metadata": {},
   "source": [
    "### 1b)\n",
    "**August** had the most natural fires >100 acres with **549** natural fires."
   ]
  },
  {
   "cell_type": "code",
   "execution_count": 96,
   "id": "b981aed4",
   "metadata": {},
   "outputs": [
    {
     "data": {
      "text/plain": [
       "datetime\n",
       "4       2\n",
       "5       6\n",
       "6      98\n",
       "7     410\n",
       "8     549\n",
       "9      93\n",
       "10      6\n",
       "Name: OBJECTID, dtype: int64"
      ]
     },
     "execution_count": 96,
     "metadata": {},
     "output_type": "execute_result"
    }
   ],
   "source": [
    "df_larger = df[(df['FIRE_SIZE'] > 100)]\n",
    "df_natural_larger = df_larger[(df_larger['NWCG_CAUSE'] == \"Natural\")]\n",
    "\n",
    "# hl_datetime = pd.to_datetime(df_human_larger['DISCOVERY_'], format='%Y/%m/%d %H:%M:%S.%f')\n",
    "# df_human_larger['datetime'] = hl_datetime\n",
    "df_most_month = df_natural_larger.iloc[:,0].groupby(df_natural_larger['datetime'].dt.month).count()\n",
    "\n",
    "df_most_month"
   ]
  },
  {
   "cell_type": "markdown",
   "id": "42d2b9f8",
   "metadata": {},
   "source": [
    "### 1c) \n",
    "There were **13** fires of unknown cause >200 acres."
   ]
  },
  {
   "cell_type": "code",
   "execution_count": 54,
   "id": "8fa6c8e0",
   "metadata": {},
   "outputs": [
    {
     "data": {
      "text/plain": [
       "NWCG_CAUSE\n",
       "Human                                      483\n",
       "Missing data/not specified/undetermined     13\n",
       "Natural                                    910\n",
       "Name: OBJECTID, dtype: int64"
      ]
     },
     "execution_count": 54,
     "metadata": {},
     "output_type": "execute_result"
    }
   ],
   "source": [
    "df_largest = df[(df['FIRE_SIZE'] > 200)]\n",
    "df_unknown = df_largest.iloc[:,0].groupby(df_largest['NWCG_CAUSE']).count()\n",
    "df_unknown"
   ]
  },
  {
   "cell_type": "markdown",
   "id": "10f102bd",
   "metadata": {},
   "source": [
    "### 1d)\n",
    "The largest fire was in **Malheur County** and discovered on **8 July 2012**. It was named **'Long Draw'**."
   ]
  },
  {
   "cell_type": "code",
   "execution_count": 55,
   "id": "39f7d34c",
   "metadata": {},
   "outputs": [
    {
     "data": {
      "text/plain": [
       "{'OBJECTID': {66964: 1578392.0},\n",
       " 'FOD_ID': {66964: 201508655},\n",
       " 'FPA_ID': {66964: 'W-649635'},\n",
       " 'SOURCE_SYS': {66964: 'FED'},\n",
       " 'SOURCE_S_1': {66964: 'DOI-WFMI'},\n",
       " 'NWCG_REPOR': {66964: 'BLM'},\n",
       " 'NWCG_REP_1': {66964: 'USORVAD'},\n",
       " 'NWCG_REP_2': {66964: 'Vale District'},\n",
       " 'SOURCE_REP': {66964: 'ORVAD'},\n",
       " 'SOURCE_R_1': {66964: 'Vale District'},\n",
       " 'LOCAL_FIRE': {66964: None},\n",
       " 'LOCAL_INCI': {66964: None},\n",
       " 'FIRE_CODE': {66964: 'G1HG'},\n",
       " 'FIRE_NAME': {66964: 'LONG DRAW'},\n",
       " 'ICS_209_PL': {66964: '2012_OR-VAD-000067_LONG DRAW'},\n",
       " 'ICS_209__1': {66964: None},\n",
       " 'MTBS_ID': {66964: 'OR4239211789420120708'},\n",
       " 'MTBS_FIRE_': {66964: 'LONG DRAW'},\n",
       " 'COMPLEX_NA': {66964: None},\n",
       " 'FIRE_YEAR': {66964: 2012},\n",
       " 'DISCOVERY_': {66964: '2012/07/08 00:00:00.000'},\n",
       " 'DISCOVER_1': {66964: 190},\n",
       " 'DISCOVER_2': {66964: '1800'},\n",
       " 'NWCG_CAUSE': {66964: 'Natural'},\n",
       " 'NWCG_GENER': {66964: 'Natural'},\n",
       " 'NWCG_CAU_1': {66964: None},\n",
       " 'CONT_DATE': {66964: '2012/07/30 00:00:00.000'},\n",
       " 'CONT_DOY': {66964: 212.0},\n",
       " 'CONT_TIME': {66964: '0830'},\n",
       " 'FIRE_SIZE': {66964: 558198.3},\n",
       " 'FIRE_SIZE_': {66964: 'G'},\n",
       " 'LATITUDE': {66964: 42.391894},\n",
       " 'LONGITUDE': {66964: -117.893687},\n",
       " 'OWNER_DESC': {66964: 'BLM'},\n",
       " 'STATE': {66964: 'OR'},\n",
       " 'COUNTY': {66964: 'Malheur'},\n",
       " 'FIPS_CODE': {66964: '41045'},\n",
       " 'FIPS_NAME': {66964: 'Malheur County'},\n",
       " 'geometry': {66964: <shapely.geometry.point.Point at 0x1cd3b9b3640>},\n",
       " 'datetime': {66964: Timestamp('2012-07-08 00:00:00')}}"
      ]
     },
     "execution_count": 55,
     "metadata": {},
     "output_type": "execute_result"
    }
   ],
   "source": [
    "# Get the size of biggest fire\n",
    "df_bigboy = max(df['FIRE_SIZE'])\n",
    "bigboy_details = df[df['FIRE_SIZE'] == df_bigboy]\n",
    "bigboy_details.to_dict()"
   ]
  },
  {
   "cell_type": "markdown",
   "id": "d363b3b3",
   "metadata": {},
   "source": [
    "### 1e)\n",
    "Lane County had **18** fires >50 acres."
   ]
  },
  {
   "cell_type": "code",
   "execution_count": 56,
   "id": "e652a526",
   "metadata": {},
   "outputs": [
    {
     "data": {
      "text/plain": [
       "FIPS_NAME\n",
       "Adams County          1\n",
       "Baker County         22\n",
       "Benton County         5\n",
       "Clackamas County      4\n",
       "Clatsop County        3\n",
       "Columbia County       1\n",
       "Coos County           8\n",
       "Crook County         10\n",
       "Curry County          9\n",
       "Deschutes County     22\n",
       "Douglas County       40\n",
       "Gilliam County       19\n",
       "Grant County         28\n",
       "Harney County        31\n",
       "Hood River County     5\n",
       "Jackson County       25\n",
       "Jefferson County     30\n",
       "Josephine County     20\n",
       "Klamath County       34\n",
       "Klickitat County      2\n",
       "Lake County          18\n",
       "Lane County          18\n",
       "Lincoln County        6\n",
       "Linn County           5\n",
       "Malheur County       49\n",
       "Marion County         7\n",
       "Morrow County        11\n",
       "Multnomah County      3\n",
       "Polk County           4\n",
       "Sherman County       20\n",
       "Tillamook County      1\n",
       "Umatilla County      40\n",
       "Union County         14\n",
       "Wallowa County       10\n",
       "Wasco County         71\n",
       "Washington County     2\n",
       "Wheeler County       28\n",
       "Yamhill County        1\n",
       "Name: OBJECTID, dtype: int64"
      ]
     },
     "execution_count": 56,
     "metadata": {},
     "output_type": "execute_result"
    }
   ],
   "source": [
    "df_lane = df_large.iloc[:,0].groupby(df_human_large['FIPS_NAME']).count()\n",
    "df_lane"
   ]
  },
  {
   "cell_type": "markdown",
   "id": "2553ce58",
   "metadata": {},
   "source": [
    "## PART 2"
   ]
  },
  {
   "cell_type": "markdown",
   "id": "cc461faa",
   "metadata": {},
   "source": [
    "### Exploring the housing market in Josephine County, OR"
   ]
  },
  {
   "cell_type": "markdown",
   "id": "c1dd4183",
   "metadata": {},
   "source": [
    "Following the legalization of marijuana, in conjunction with a defunding of public safety, the housing market in rural southern Oregon has been _skyrocketing_. Without new zoning laws, housing developments in the area cannot be built. The following shortage of housing, and influx of wealth from farming, has made the Josphine and Jackson County rental markets one of the worst in the US. The following map shows median rental prices by census tract in Josephine County. I chose a choropleth color scheme, not a dichromatic one, because there is no significant 'turning' point in the data. "
   ]
  },
  {
   "cell_type": "code",
   "execution_count": null,
   "id": "6d4cf3dc",
   "metadata": {},
   "outputs": [],
   "source": [
    "# Define product\n",
    "acs = products.ACS(2019)"
   ]
  },
  {
   "cell_type": "code",
   "execution_count": null,
   "id": "258ec876",
   "metadata": {},
   "outputs": [],
   "source": [
    "joco_rent = products.ACS(2019).from_county('Josephine County, OR', level='tract',\n",
    "                                        variables=['B25064_001E']) # don't worry about the deprecation message!"
   ]
  },
  {
   "cell_type": "code",
   "execution_count": null,
   "id": "e5d55eb3",
   "metadata": {},
   "outputs": [],
   "source": [
    "# Plot map\n",
    "f, ax = plt.subplots(1, 1, figsize=(10,10))\n",
    "rent_plt = joco_rent.plot('B25064_001E', ax=ax, cmap='Blues', edgecolor = '0.2', legend='true')\n",
    "rent_plt.set_title('Estimated median gross rent\\nin Josephine County, OR by census tract', fontdict={'fontsize': '15', 'fontweight':'2'})\n",
    "rent_plt.axis('off')"
   ]
  },
  {
   "cell_type": "code",
   "execution_count": null,
   "id": "df1a2811",
   "metadata": {},
   "outputs": [],
   "source": []
  }
 ],
 "metadata": {
  "kernelspec": {
   "display_name": "Python 3 (ipykernel)",
   "language": "python",
   "name": "python3"
  },
  "language_info": {
   "codemirror_mode": {
    "name": "ipython",
    "version": 3
   },
   "file_extension": ".py",
   "mimetype": "text/x-python",
   "name": "python",
   "nbconvert_exporter": "python",
   "pygments_lexer": "ipython3",
   "version": "3.8.12"
  }
 },
 "nbformat": 4,
 "nbformat_minor": 5
}
